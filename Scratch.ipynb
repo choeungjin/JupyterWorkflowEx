{
 "cells": [
  {
   "cell_type": "markdown",
   "metadata": {},
   "source": [
    "#### Refactor : speed up data download\n",
    "\n",
    "> 1. 기존 데이터 다운로드 패키지의 속도는 다음과 같다.\n",
    "\n",
    "![테스트결과](C:/Users/pc/JupyterWorkflowEx/img/downloadtime.png)\n",
    "\n",
    "> 2. 속도에 영향을 주는 부분을 찾아 refactoring 한다.\n",
    ">> * 'data.py'의 속도를 잡아먹는 부분(데이터를 가져와 parsing하는 부분)을 가져와 변경한다."
   ]
  },
  {
   "cell_type": "code",
   "execution_count": 2,
   "metadata": {},
   "outputs": [],
   "source": [
    "from jupyterworkflow.data import get_fremont_data\n",
    "import pandas as pd\n",
    "\n",
    "def test_fremont_data():\n",
    "    data = get_fremont_data()\n",
    "    #data.columns를 실행하면 인덱스, 칼럼명, 타입이 표시 되므로 실행 후 칼럼명을 카피하면 좋음\n",
    "    # all(data.columns == ['West', 'East', 'Total']) : 칼럼명이 일치하면 True\n",
    "    assert all(data.columns == ['West', 'East', 'Total'])\n",
    "    assert isinstance(data.index, pd.DatetimeIndex)"
   ]
  },
  {
   "cell_type": "code",
   "execution_count": 3,
   "metadata": {},
   "outputs": [],
   "source": [
    "test_fremont_data() # run 'test_fremont_data' function"
   ]
  },
  {
   "cell_type": "code",
   "execution_count": 9,
   "metadata": {},
   "outputs": [
    {
     "data": {
      "text/plain": [
       "DatetimeIndex(['2012-10-03 12:00:00', '2012-10-03 01:00:00',\n",
       "               '2012-10-03 02:00:00', '2012-10-03 03:00:00',\n",
       "               '2012-10-03 04:00:00', '2012-10-03 05:00:00',\n",
       "               '2012-10-03 06:00:00', '2012-10-03 07:00:00',\n",
       "               '2012-10-03 08:00:00', '2012-10-03 09:00:00',\n",
       "               ...\n",
       "               '2018-04-30 02:00:00', '2018-04-30 03:00:00',\n",
       "               '2018-04-30 04:00:00', '2018-04-30 05:00:00',\n",
       "               '2018-04-30 06:00:00', '2018-04-30 07:00:00',\n",
       "               '2018-04-30 08:00:00', '2018-04-30 09:00:00',\n",
       "               '2018-04-30 10:00:00', '2018-04-30 11:00:00'],\n",
       "              dtype='datetime64[ns]', name='Date', length=48864, freq=None)"
      ]
     },
     "execution_count": 9,
     "metadata": {},
     "output_type": "execute_result"
    }
   ],
   "source": [
    "# 'data.py'에서 가져 온 부분을 변경\n",
    "# data = pd.read_csv('Fremont.csv', index_col = 'Date', parse_dates = True)\n",
    "# data.columns = ['West', 'East']\n",
    "# data['Total'] = data['West'] + data['East']\n",
    "\n",
    "data = pd.read_csv('Fremont.csv', index_col = 'Date')\n",
    "# data.head() : 데이터가 로드 된 것 확인\n",
    "# data.index.dtype : 데이터 타입을 확인\n",
    "# pd.to_datetime(data.index) #날짜, 시간 형식의 표식 포맷을 확인 후 \n",
    "# 'http://strftime.org/'의 포맷 형식을 따라 변경\n",
    "\n",
    "try:\n",
    "    data.index = pd.to_datetime(data.index, format = '%m/%d/%Y %H:%M:%S %p') # 이 문장이 pd.to_datetime(data.index)보다 훨씬 빨리 로드 됨\n",
    "except TypeError:\n",
    "    data.index = pd.to_datetime(data.index)\n",
    "\n",
    "# 'data.py'에 try ~ except 부분을 추가하여 변경"
   ]
  },
  {
   "cell_type": "code",
   "execution_count": 11,
   "metadata": {},
   "outputs": [],
   "source": [
    "data.columns = ['West', 'East']\n",
    "data['Total'] = data['West'] + data['East']\n",
    "\n",
    "# 속도가 1.81 seconds로 개선됨"
   ]
  },
  {
   "cell_type": "code",
   "execution_count": null,
   "metadata": {},
   "outputs": [],
   "source": []
  }
 ],
 "metadata": {
  "kernelspec": {
   "display_name": "Python 3",
   "language": "python",
   "name": "python3"
  },
  "language_info": {
   "codemirror_mode": {
    "name": "ipython",
    "version": 3
   },
   "file_extension": ".py",
   "mimetype": "text/x-python",
   "name": "python",
   "nbconvert_exporter": "python",
   "pygments_lexer": "ipython3",
   "version": "3.6.4"
  }
 },
 "nbformat": 4,
 "nbformat_minor": 2
}
